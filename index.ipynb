{
 "cells": [
  {
   "cell_type": "markdown",
   "metadata": {},
   "source": [
    "# Visualizing Data"
   ]
  },
  {
   "cell_type": "markdown",
   "metadata": {},
   "source": [
    "### Learning Objectives"
   ]
  },
  {
   "cell_type": "markdown",
   "metadata": {},
   "source": [
    "* Get a sense of how to use a graphing library, like Plotly, to answer questions about how to visualize our data\n",
    "* Understand how our dictionary and list data structures can represent graphical information"
   ]
  },
  {
   "cell_type": "markdown",
   "metadata": {},
   "source": [
    "### Introduction"
   ]
  },
  {
   "cell_type": "markdown",
   "metadata": {},
   "source": [
    "We have spent the last few sections introducing ourselves to various data structures in Python.  In this section, we will see how we can use these same data structures to display our data with the help of a library, Plotly."
   ]
  },
  {
   "cell_type": "markdown",
   "metadata": {},
   "source": [
    "### Working with Plotly"
   ]
  },
  {
   "cell_type": "markdown",
   "metadata": {},
   "source": [
    "There are various Python visualization tools we can use to display our data. In this lesson, we will be using Plotly, as it produces nice looking graphs and is easy to work with.  \n",
    "\n",
    "We can easily download the `plotly` library with the use of `pip`.  \n",
    "\n",
    "> Pip is a package management system that allows us to easily download and install libraries written in Python.  If you are working on Learn, we have already installed pip for you.  We will not walk through installing pip here, however you can find instructions on installing pip [for Mac](http://softwaretester.info/install-and-upgrade-pip-on-mac-os-x/) or [for Windows](https://www.youtube.com/results?search_query=instally+pip+windows) online.  Also, if you are familiar with working with a terminal and have `easy_install`, you can run `sudo easy_install pip` from the terminal."
   ]
  },
  {
   "cell_type": "markdown",
   "metadata": {},
   "source": [
    "To install a package with pip, the general pattern is to run `pip install` followed by the name of the package.  We generally do this from a terminal (whatever that is), but you can also install packages directly from Jupyter, like so:\n",
    "\n",
    ">**Note:** *You can ignore any messages below that say requirement already satisfied.*"
   ]
  },
  {
   "cell_type": "code",
   "execution_count": 2,
   "metadata": {},
   "outputs": [
    {
     "name": "stdout",
     "output_type": "stream",
     "text": [
      "Collecting plotly\n",
      "\u001b[?25l  Downloading https://files.pythonhosted.org/packages/8a/e3/e1baab5b000158966d2c70ceebbdf2cce8a665fb77445aa5ab2dc4fb05a5/plotly-3.1.0.tar.gz (30.3MB)\n",
      "\u001b[K    100% |████████████████████████████████| 30.3MB 104kB/s eta 0:00:01\n",
      "\u001b[?25hCollecting pip\n",
      "\u001b[?25l  Downloading https://files.pythonhosted.org/packages/5f/25/e52d3f31441505a5f3af41213346e5b6c221c9e086a166f3703d2ddaf940/pip-18.0-py2.py3-none-any.whl (1.3MB)\n",
      "\u001b[K    100% |████████████████████████████████| 1.3MB 19.4MB/s ta 0:00:01\n",
      "\u001b[?25hRequirement not upgraded as not directly required: decorator>=4.0.6 in /opt/conda/lib/python3.6/site-packages (from plotly) (4.3.0)\n",
      "Requirement not upgraded as not directly required: nbformat>=4.2 in /opt/conda/lib/python3.6/site-packages (from plotly) (4.4.0)\n",
      "Requirement not upgraded as not directly required: pytz in /opt/conda/lib/python3.6/site-packages (from plotly) (2018.5)\n",
      "Requirement not upgraded as not directly required: requests in /opt/conda/lib/python3.6/site-packages (from plotly) (2.18.4)\n",
      "Collecting retrying>=1.3.3 (from plotly)\n",
      "  Downloading https://files.pythonhosted.org/packages/44/ef/beae4b4ef80902f22e3af073397f079c96969c69b2c7d52a57ea9ae61c9d/retrying-1.3.3.tar.gz\n",
      "Requirement not upgraded as not directly required: six in /opt/conda/lib/python3.6/site-packages (from plotly) (1.11.0)\n",
      "Requirement not upgraded as not directly required: jupyter-core in /opt/conda/lib/python3.6/site-packages (from nbformat>=4.2->plotly) (4.4.0)\n",
      "Requirement not upgraded as not directly required: jsonschema!=2.5.0,>=2.4 in /opt/conda/lib/python3.6/site-packages (from nbformat>=4.2->plotly) (2.6.0)\n",
      "Requirement not upgraded as not directly required: ipython-genutils in /opt/conda/lib/python3.6/site-packages (from nbformat>=4.2->plotly) (0.2.0)\n",
      "Requirement not upgraded as not directly required: traitlets>=4.1 in /opt/conda/lib/python3.6/site-packages (from nbformat>=4.2->plotly) (4.3.2)\n",
      "Requirement not upgraded as not directly required: chardet<3.1.0,>=3.0.2 in /opt/conda/lib/python3.6/site-packages (from requests->plotly) (3.0.4)\n",
      "Requirement not upgraded as not directly required: idna<2.7,>=2.5 in /opt/conda/lib/python3.6/site-packages (from requests->plotly) (2.6)\n",
      "Requirement not upgraded as not directly required: urllib3<1.23,>=1.21.1 in /opt/conda/lib/python3.6/site-packages (from requests->plotly) (1.22)\n",
      "Requirement not upgraded as not directly required: certifi>=2017.4.17 in /opt/conda/lib/python3.6/site-packages (from requests->plotly) (2018.4.16)\n",
      "Building wheels for collected packages: plotly, retrying\n",
      "  Running setup.py bdist_wheel for plotly ... \u001b[?25ldone\n",
      "\u001b[?25h  Stored in directory: /home/jedawson/.cache/pip/wheels/9f/8c/a4/a1a26a9a0ac42d852e0fb4b0ba021cc6b881aab075d03e903b\n",
      "  Running setup.py bdist_wheel for retrying ... \u001b[?25ldone\n",
      "\u001b[?25h  Stored in directory: /home/jedawson/.cache/pip/wheels/d7/a9/33/acc7b709e2a35caa7d4cae442f6fe6fbf2c43f80823d46460c\n",
      "Successfully built plotly retrying\n",
      "\u001b[31mmkl-random 1.0.1 requires cython, which is not installed.\u001b[0m\n",
      "\u001b[31mmkl-fft 1.0.2 requires cython, which is not installed.\u001b[0m\n",
      "Installing collected packages: retrying, plotly, pip\n",
      "  Found existing installation: plotly 2.2.3\n",
      "    Uninstalling plotly-2.2.3:\n",
      "      Successfully uninstalled plotly-2.2.3\n",
      "  Found existing installation: pip 10.0.1\n",
      "    Uninstalling pip-10.0.1:\n",
      "      Successfully uninstalled pip-10.0.1\n",
      "Successfully installed pip-18.0 plotly-3.1.0 retrying-1.3.3\n"
     ]
    }
   ],
   "source": [
    "!pip install plotly --upgrade pip"
   ]
  },
  {
   "cell_type": "markdown",
   "metadata": {},
   "source": [
    "> Remember to use shift + enter to run the line above."
   ]
  },
  {
   "cell_type": "markdown",
   "metadata": {},
   "source": [
    "Now we have `plotly` on our computer.  The next step is to get it into this notebook.  We do so with the following two lines."
   ]
  },
  {
   "cell_type": "code",
   "execution_count": 3,
   "metadata": {},
   "outputs": [
    {
     "data": {
      "text/html": [
       "<script>requirejs.config({paths: { 'plotly': ['https://cdn.plot.ly/plotly-latest.min']},});if(!window.Plotly) {{require(['plotly'],function(plotly) {window.Plotly=plotly;});}}</script>"
      ],
      "text/vnd.plotly.v1+html": [
       "<script>requirejs.config({paths: { 'plotly': ['https://cdn.plot.ly/plotly-latest.min']},});if(!window.Plotly) {{require(['plotly'],function(plotly) {window.Plotly=plotly;});}}</script>"
      ]
     },
     "metadata": {},
     "output_type": "display_data"
    }
   ],
   "source": [
    "import plotly\n",
    "\n",
    "plotly.offline.init_notebook_mode(connected=True)\n",
    "# use offline mode to avoid initial registration"
   ]
  },
  {
   "cell_type": "markdown",
   "metadata": {},
   "source": [
    "In the code above, we bring in the `plotly` library by using the keyword `import` followed by our library name, `plotly`.  Then we call the method `plotly.offline.init_notebook_mode(connected=True)` so that we do not have to connect plotly to a registered account online.  If you are wondering how to we know all of this, you simply ask Google.\n",
    "\n",
    "![](./plotly-no-account.png)"
   ]
  },
  {
   "cell_type": "markdown",
   "metadata": {},
   "source": [
    "Ok, now let's use plotly to build our first graph."
   ]
  },
  {
   "cell_type": "markdown",
   "metadata": {},
   "source": [
    "First, we create a new dictionary and assign it to `trace0`. Then we set `x` key that points to a list of $x$ values.  Similarly, we create a `y` key with a value of a list of $y$ values.  "
   ]
  },
  {
   "cell_type": "code",
   "execution_count": 4,
   "metadata": {},
   "outputs": [
    {
     "data": {
      "text/plain": [
       "{'type': 'bar', 'x': ['jack', 'jill', 'sandy'], 'y': [8, 11, 10]}"
      ]
     },
     "execution_count": 4,
     "metadata": {},
     "output_type": "execute_result"
    }
   ],
   "source": [
    "trace0 = {'type': 'bar', 'x': ['jack', 'jill', 'sandy'], 'y': [8, 11, 10]}\n",
    "trace0"
   ]
  },
  {
   "cell_type": "markdown",
   "metadata": {},
   "source": [
    "Now we plot our graph by calling the `plotly.offline.iplot` method and passing through a list of traces to `iplot` method."
   ]
  },
  {
   "cell_type": "code",
   "execution_count": 5,
   "metadata": {},
   "outputs": [
    {
     "data": {
      "text/html": [
       "<script>requirejs.config({paths: { 'plotly': ['https://cdn.plot.ly/plotly-latest.min']},});if(!window.Plotly) {{require(['plotly'],function(plotly) {window.Plotly=plotly;});}}</script>"
      ],
      "text/vnd.plotly.v1+html": [
       "<script>requirejs.config({paths: { 'plotly': ['https://cdn.plot.ly/plotly-latest.min']},});if(!window.Plotly) {{require(['plotly'],function(plotly) {window.Plotly=plotly;});}}</script>"
      ]
     },
     "metadata": {},
     "output_type": "display_data"
    },
    {
     "data": {
      "application/vnd.plotly.v1+json": {
       "data": [
        {
         "type": "bar",
         "uid": "9d778c12-9761-11e8-a93e-0242ac110032",
         "x": [
          "jack",
          "jill",
          "sandy"
         ],
         "y": [
          8,
          11,
          10
         ]
        }
       ],
       "layout": {}
      },
      "text/html": [
       "<div id=\"d3d703bd-83f3-448a-9607-3d471816d78c\" style=\"height: 525px; width: 100%;\" class=\"plotly-graph-div\"></div><script type=\"text/javascript\">require([\"plotly\"], function(Plotly) { window.PLOTLYENV=window.PLOTLYENV || {};window.PLOTLYENV.BASE_URL=\"https://plot.ly\";Plotly.newPlot(\"d3d703bd-83f3-448a-9607-3d471816d78c\", [{\"x\": [\"jack\", \"jill\", \"sandy\"], \"y\": [8, 11, 10], \"type\": \"bar\", \"uid\": \"9daba22c-9761-11e8-a93e-0242ac110032\"}], {}, {\"showLink\": true, \"linkText\": \"Export to plot.ly\"})});</script>"
      ],
      "text/vnd.plotly.v1+html": [
       "<div id=\"d3d703bd-83f3-448a-9607-3d471816d78c\" style=\"height: 525px; width: 100%;\" class=\"plotly-graph-div\"></div><script type=\"text/javascript\">require([\"plotly\"], function(Plotly) { window.PLOTLYENV=window.PLOTLYENV || {};window.PLOTLYENV.BASE_URL=\"https://plot.ly\";Plotly.newPlot(\"d3d703bd-83f3-448a-9607-3d471816d78c\", [{\"x\": [\"jack\", \"jill\", \"sandy\"], \"y\": [8, 11, 10], \"type\": \"bar\", \"uid\": \"9daba22c-9761-11e8-a93e-0242ac110032\"}], {}, {\"showLink\": true, \"linkText\": \"Export to plot.ly\"})});</script>"
      ]
     },
     "metadata": {},
     "output_type": "display_data"
    }
   ],
   "source": [
    "import plotly\n",
    "\n",
    "plotly.offline.init_notebook_mode(connected=True)\n",
    "trace0 = {'type': 'bar', 'x': ['jack', 'jill', 'sandy'], 'y': [8, 11, 10]}\n",
    "\n",
    "\n",
    "plotly.offline.iplot([trace0])"
   ]
  },
  {
   "cell_type": "markdown",
   "metadata": {},
   "source": [
    "It may be confusing understanding what a trace is, and how it is different from a plot. The easiest way to explain it is maybe to show how the `iplot` method takes in a list of two traces, instead of just one."
   ]
  },
  {
   "cell_type": "code",
   "execution_count": null,
   "metadata": {},
   "outputs": [],
   "source": [
    "trace0 = {'type': 'bar', 'x': ['jack', 'jill', 'sandy', 'blaise'], 'y': [8, 11, 8, 13, 6, 4]}\n",
    "trace1 = {'type': 'bar', 'x': ['jack', 'jill', 'sandy', 'gob'], 'y': [4, 12, 3, 14, 8, 1]}\n",
    "\n",
    "\n",
    "plotly.offline.iplot([trace0, trace1])"
   ]
  },
  {
   "cell_type": "markdown",
   "metadata": {},
   "source": [
    "As we can see, each trace is an associated collection of data, and a plot can display more than one trace."
   ]
  },
  {
   "cell_type": "markdown",
   "metadata": {},
   "source": [
    "### Summary"
   ]
  },
  {
   "cell_type": "markdown",
   "metadata": {},
   "source": [
    "In this section, we saw how to use data visualizations to better understand the data.\n",
    "\n",
    "To display the data with `plotly` we need to do a couple of things.  First, we installed plotly by going to our terminal and running `pip install plotly`.  Then to use the library, we import the `plotly` library into our notebook.  Once the library is loaded in our notebook, it's time to use it.  We create a new dictionary with keys of $x$ and $y$, with each key pointing to an array of the $x$ or $y$ values of our points.  We can pass through a list of traces, with each trace representing associated data."
   ]
  }
 ],
 "metadata": {
  "kernelspec": {
   "display_name": "Python 3",
   "language": "python",
   "name": "python3"
  },
  "language_info": {
   "codemirror_mode": {
    "name": "ipython",
    "version": 3
   },
   "file_extension": ".py",
   "mimetype": "text/x-python",
   "name": "python",
   "nbconvert_exporter": "python",
   "pygments_lexer": "ipython3",
   "version": "3.6.4"
  }
 },
 "nbformat": 4,
 "nbformat_minor": 2
}
